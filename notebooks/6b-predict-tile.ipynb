{
 "cells": [
  {
   "cell_type": "markdown",
   "metadata": {},
   "source": [
    "# Overview\n",
    "\n",
    "This Jupyter notebook predicts large-area tiles downloaded in `4a-download-large-area` with a trained model from `3-model-master`. The notebook is broken down into the following sections:\n",
    "\n",
    "   * **Model loading**:\n",
    "   * **Coordinate identification**\n",
    "   * **Tiling**\n",
    "   * **Loading and predicting**\n",
    "   * **Mosaicing**\n",
    "   * **Writing TIF**\n",
    "   * **Writing COG**"
   ]
  },
  {
   "cell_type": "markdown",
   "metadata": {},
   "source": [
    "# 1.0 Package imports"
   ]
  },
  {
   "cell_type": "code",
   "execution_count": 1,
   "metadata": {},
   "outputs": [
    {
     "name": "stderr",
     "output_type": "stream",
     "text": [
      "Using TensorFlow backend.\n"
     ]
    }
   ],
   "source": [
    "import tensorflow as tf\n",
    "sess = tf.Session()\n",
    "from keras import backend as K\n",
    "K.set_session(sess)\n",
    "from osgeo import ogr, osr\n",
    "import numpy as np \n",
    "import seaborn as sns\n",
    "import matplotlib.pyplot as plt\n",
    "%matplotlib inline\n",
    "import os\n",
    "import rasterio\n",
    "from rasterio.transform import from_origin\n",
    "from tqdm import tnrange, tqdm_notebook\n",
    "from scipy.ndimage import median_filter\n",
    "from skimage.transform import resize\n",
    "import hickle as hkl\n",
    "from time import sleep\n",
    "\n",
    "%run ../src/downloading/utils.py\n",
    "%run ../src/models/utils.py"
   ]
  },
  {
   "cell_type": "markdown",
   "metadata": {},
   "source": [
    "# 1.1 Parameter definitions"
   ]
  },
  {
   "cell_type": "markdown",
   "metadata": {},
   "source": [
    "# 2.0 Model loading"
   ]
  },
  {
   "cell_type": "code",
   "execution_count": 357,
   "metadata": {},
   "outputs": [],
   "source": [
    "path = '../models/master-2021-13000/'\n",
    "new_saver = tf.train.import_meta_graph(path + 'model.meta')\n",
    "new_saver.restore(sess, tf.train.latest_checkpoint(path))"
   ]
  },
  {
   "cell_type": "code",
   "execution_count": 358,
   "metadata": {},
   "outputs": [],
   "source": [
    "for i in range(50):\n",
    "    try:\n",
    "        logits = tf.get_default_graph().get_tensor_by_name(\"conv2d_{}/Sigmoid:0\".format(i))\n",
    "    except Exception:\n",
    "        pass\n",
    "    \n",
    "inp = tf.get_default_graph().get_tensor_by_name(\"Placeholder:0\")\n",
    "length = tf.get_default_graph().get_tensor_by_name(\"Placeholder_1:0\")\n",
    "\n",
    "\n",
    "#inp_median = tf.get_default_graph().get_tensor_by_name(\"Placeholder_4:0\")\n",
    "rmax = tf.get_default_graph().get_tensor_by_name(\"Placeholder_4:0\")\n",
    "rmin = tf.get_default_graph().get_tensor_by_name(\"Placeholder_5:0\")\n",
    "dmax = tf.get_default_graph().get_tensor_by_name(\"Placeholder_6:0\")"
   ]
  },
  {
   "cell_type": "markdown",
   "metadata": {},
   "source": [
    "## 2.2 Tiling functions"
   ]
  },
  {
   "cell_type": "code",
   "execution_count": 359,
   "metadata": {},
   "outputs": [
    {
     "name": "stdout",
     "output_type": "stream",
     "text": [
      "100 81 90 90 361\n"
     ]
    }
   ],
   "source": [
    "%run ../src/models/utils.py\n",
    "def fspecial_gauss(size, sigma):\n",
    "\n",
    "    \"\"\"Function to mimic the 'fspecial' gaussian MATLAB function\n",
    "    \"\"\"\n",
    "\n",
    "    x, y = np.mgrid[-size//2 + 1:size//2 + 1, -size//2 + 1:size//2 + 1]\n",
    "    g = np.exp(-((x**2 + y**2)/(2.0*sigma**2)))\n",
    "    return g\n",
    "\n",
    "arr = fspecial_gauss(14, 4.5)\n",
    "arr = arr[:7, :7]\n",
    "\n",
    "SIZE = 10\n",
    "SIZE_N = SIZE*SIZE\n",
    "SIZE_UR = (SIZE - 1) * (SIZE - 1)\n",
    "SIZE_R = (SIZE - 1) * SIZE\n",
    "SIZE_U = SIZE_R\n",
    "TOTAL = SIZE_N + SIZE_UR + SIZE_R + SIZE_U\n",
    "print(SIZE_N, SIZE_UR, SIZE_R, SIZE_U, TOTAL)\n",
    "\n",
    "arr = np.concatenate([arr, np.flip(arr, 0)], 0)\n",
    "base_filter = np.concatenate([arr, np.flip(arr, 1)], 1)\n",
    "normal = np.tile(base_filter, (SIZE, SIZE))\n",
    "normal[:, 0:7] = 1.\n",
    "normal[:, -7:] = 1.\n",
    "normal[0:7, :] = 1.\n",
    "normal[-7:, :] = 1.\n",
    "upright = np.tile(base_filter, (SIZE - 1, SIZE - 1))\n",
    "upright = np.pad(upright, (7, 7), 'constant', constant_values = 0)\n",
    "right_filter = np.tile(base_filter, (SIZE, SIZE - 1))\n",
    "right_filter = np.pad(right_filter, ((0, 0), (7, 7)), 'constant', constant_values = 0)\n",
    "up_filter = np.tile(base_filter, (SIZE - 1, SIZE))\n",
    "up_filter = np.pad(up_filter, ((7, 7), (0, 0)), 'constant', constant_values = 0)\n",
    "\n",
    "sums = (upright + normal)# + up_filter + right_filter\n",
    "#up_filter /= sums\n",
    "#right_filter /= sums\n",
    "upright /= sums\n",
    "normal /= sums"
   ]
  },
  {
   "cell_type": "markdown",
   "metadata": {},
   "source": [
    "# 2.3 Prediction functions"
   ]
  },
  {
   "cell_type": "code",
   "execution_count": 360,
   "metadata": {},
   "outputs": [],
   "source": [
    "# 12700\n",
    "min_all = [0.012558175020981156, 0.025696192874036773, 0.015518425268940261, 0.04415960936903945, 0.040497444113832305, 0.04643320363164721, 0.04924086366063935, 0.04289311055161364, 0.027450980392156862, 0.019760433356221865, 0.0, 0.5432562150454495, 0.2969113383797463, -0.03326967745787883, -0.4014989586557378, -0.023132966289995487, -0.4960341058778109]\n",
    "max_all = [0.21116960402838178, 0.30730144197756926, 0.4478065156023499, 0.5342488746471351, 0.4942702372777905, 0.5072556649118791, 0.5294422827496758, 0.5418631265735866, 0.6813458457312886, 0.6285648889906157, 0.4208438239108873, 0.9480767549203932, 0.8130214090572532, 0.7444347421954634, 0.3268904303046983, 0.6872429594867983, 0.7129084148772861]\n"
   ]
  },
  {
   "cell_type": "code",
   "execution_count": 438,
   "metadata": {},
   "outputs": [
    {
     "name": "stdout",
     "output_type": "stream",
     "text": [
      "[-85.99999999999908, 13.111111111110523, -85.94444444444353, 13.16666666666608]\n"
     ]
    },
    {
     "data": {
      "text/plain": [
       "<Figure size 432x288 with 0 Axes>"
      ]
     },
     "metadata": {},
     "output_type": "display_data"
    }
   ],
   "source": [
    "import copy\n",
    "%run ../src/models/utils.py\n",
    "\n",
    "\n",
    "x = 432\n",
    "y = 1198\n",
    "data = pd.read_csv(\"final_processing_area_noclip.csv\")\n",
    "\n",
    "data = data[data['Y_tile'] == int(y)]\n",
    "data = data[data['X_tile'] == int(x)]\n",
    "\n",
    "y = str(y)\n",
    "x = str(x)\n",
    "\n",
    "\n",
    "def make_bbox(initial_bbx, expansion = 10):\n",
    "    \n",
    "    multiplier = 1/360\n",
    "    bbx = copy.deepcopy(initial_bbx)\n",
    "    bbx[0] -= expansion * multiplier\n",
    "    bbx[1] -= expansion * multiplier\n",
    "    bbx[2] += expansion * multiplier\n",
    "    bbx[3] += expansion * multiplier\n",
    "    return bbx\n",
    "\n",
    "\n",
    "\n",
    "data = data.reset_index(drop = True)\n",
    "if \".0\" in x:\n",
    "    x = x[:-2]\n",
    "if \".0\" in y:\n",
    "    y = y[:-2]\n",
    "\n",
    "initial_bbx = [data['X'][0], data['Y'][0], data['X'][0], data['Y'][0]]\n",
    "point = make_bbox(initial_bbx, expansion = 300/30)\n",
    "print(point)\n",
    "\n",
    "\n",
    "inp_folder = f'../project-monitoring/tof/{str(x)}/{str(y)}/processed/'\n",
    "out_folder = f'../project-monitoring/tof/{str(x)}/{str(y)}/output/'"
   ]
  },
  {
   "cell_type": "code",
   "execution_count": 439,
   "metadata": {},
   "outputs": [],
   "source": [
    "\n",
    "\n",
    "def convert_to_db(x, min_db):\n",
    "    x = 10 * np.log10(x + 1/65535)\n",
    "    x[x < -min_db] = -min_db\n",
    "    x = x + min_db\n",
    "    x = x / min_db\n",
    "    x = np.clip(x, 0, 1)\n",
    "    return x\n",
    "\n",
    "def grndvi(array):\n",
    "    nir = np.clip(array[..., 3], 0, 1)\n",
    "    green = np.clip(array[..., 1], 0, 1)\n",
    "    red = np.clip(array[..., 2], 0, 1)\n",
    "    denominator = (nir+(green+red)) + 1e-5\n",
    "    return (nir-(green+red)) / denominator\n",
    "\n",
    "def evi(x: np.ndarray, verbose: bool = False) -> np.ndarray:\n",
    "    '''\n",
    "    Calculates the enhanced vegetation index\n",
    "    2.5 x (08 - 04) / (08 + 6 * 04 - 7.5 * 02 + 1)\n",
    "    '''\n",
    "\n",
    "    BLUE = x[..., 0]\n",
    "    GREEN = x[..., 1]\n",
    "    RED = x[..., 2]\n",
    "    NIR = x[..., 3]\n",
    "    evis = 2.5 * ( (NIR-RED) / (NIR + (6*RED) - (7.5*BLUE) + 1))\n",
    "    evis = np.clip(evis, -1.5, 1.5)\n",
    "    return evis\n",
    "\n",
    "def msavi2(x: np.ndarray, verbose: bool = False) -> np.ndarray:\n",
    "    '''\n",
    "    Calculates the modified soil-adjusted vegetation index 2\n",
    "    (2 * NIR + 1 - sqrt((2*NIR + 1)^2 - 8*(NIR-RED)) / 2\n",
    "    '''\n",
    "    BLUE = x[..., 0]\n",
    "    GREEN = x[..., 1]\n",
    "    RED = np.clip(x[..., 2], 0, 1)\n",
    "    NIR = np.clip(x[..., 3], 0, 1)\n",
    "\n",
    "    msavis = (2 * NIR + 1 - np.sqrt( (2*NIR+1)**2 - 8*(NIR-RED) )) / 2\n",
    "    return msavis\n",
    "\n",
    "def bi(x: np.ndarray, verbose: bool = False) -> np.ndarray:\n",
    "    B11 = np.clip(x[..., 8], 0, 1)\n",
    "    B4 = np.clip(x[..., 2], 0, 1)\n",
    "    B8 = np.clip(x[..., 3], 0, 1)\n",
    "    B2 = np.clip(x[..., 0], 0, 1)\n",
    "    bis = ((B11 + B4) - (B8 + B2)) / ((B11 + B4) + (B8 + B2))\n",
    "    return bis\n",
    "\n",
    "\n",
    "            \n",
    "\n",
    "def load_and_predict_folder(pred_files, overlap_filter = upright,\n",
    "                            normal_filter = normal, histogram_match = False):\n",
    "    \"\"\"Insert documentation here\n",
    "    \"\"\"\n",
    "      \n",
    "    clipping_params = {\n",
    "        'rmax': rmax,\n",
    "        'rmin': rmin,\n",
    "        'dmax': dmax\n",
    "    }\n",
    "    \n",
    "    pred_x = []\n",
    "    x = hkl.load(pred_files)\n",
    "    \n",
    "        \n",
    "    if np.sum(x) > 0:\n",
    "        if not isinstance(x.flat[0], np.floating):\n",
    "            assert np.max(x) > 1\n",
    "            x = x / 65535.\n",
    "\n",
    "        x[..., -1] = convert_to_db(x[..., -1], 50)\n",
    "        x[..., -2] = convert_to_db(x[..., -2], 50)\n",
    "\n",
    "        indices = np.empty((12, x.shape[1], x.shape[2], 4))\n",
    "        indices[..., 0] = evi(x)\n",
    "        indices[..., 1] = bi(x)\n",
    "        indices[..., 2] = msavi2(x)\n",
    "        indices[..., 3] = grndvi(x)\n",
    "\n",
    "        x = np.concatenate([x, indices], axis = -1)\n",
    "\n",
    "        med = np.median(x, axis = 0)\n",
    "        med = med[np.newaxis, :, :, :]\n",
    "        x = np.concatenate([x, med], axis = 0)\n",
    "\n",
    "        filtered = median_filter(x[0, :, :, 10], size = 5)\n",
    "        x[:, :, :, 10] = np.stack([filtered] * x.shape[0])\n",
    "        x = tile_images(x)\n",
    "        \n",
    "        pred_x = np.stack(x)   \n",
    "        for band in range(0, pred_x.shape[-1]):\n",
    "            mins = min_all[band]\n",
    "            maxs = max_all[band]\n",
    "            pred_x[..., band] = np.clip(pred_x[..., band], mins, maxs)\n",
    "            midrange = (maxs + mins) / 2\n",
    "            rng = maxs - mins\n",
    "            standardized = (pred_x[..., band] - midrange) / (rng / 2)\n",
    "            pred_x[..., band] = standardized\n",
    "\n",
    "        preds = []\n",
    "        batches = [x for x in range(0, 180, 40)] + [181]\n",
    "        for i in range(len(batches)-1):\n",
    "            batch_x = pred_x[batches[i]:batches[i+1]]\n",
    "            lengths = np.full((batch_x.shape[0], 1), 12)\n",
    "            batch_pred = sess.run(logits,\n",
    "                                  feed_dict={inp:batch_x, \n",
    "                                             clipping_params['rmax']: 5,\n",
    "                                             clipping_params['rmin']: 0,\n",
    "                                             clipping_params['dmax']: 3,\n",
    "                                             length:lengths}).reshape(batch_x.shape[0], 14, 14)\n",
    "            for sample in range(batch_pred.shape[0]):\n",
    "                preds.append(batch_pred[sample, :, :])\n",
    "\n",
    "\n",
    "        preds_stacked = []\n",
    "        for i in range(0, SIZE_N, SIZE):\n",
    "            preds_stacked.append(np.concatenate(preds[i:i + SIZE], axis = 1))\n",
    "        stacked = np.concatenate(preds_stacked, axis = 0) * normal\n",
    "\n",
    "        preds_overlap = []\n",
    "        for scene in range(SIZE_N, SIZE_N+SIZE_UR, SIZE - 1):\n",
    "            to_concat = np.concatenate(preds[scene:scene+ (SIZE - 1)], axis = 1)\n",
    "            preds_overlap.append(to_concat)    \n",
    "        overlapped = np.concatenate(preds_overlap, axis = 0)\n",
    "        overlapped = np.pad(overlapped, (7, 7), 'constant', constant_values = 0)\n",
    "        overlapped = overlapped * upright\n",
    "\n",
    "\n",
    "        stacked = stacked + overlapped# + right + up\n",
    "    else:\n",
    "        stacked = np.full((140, 140), 255)\n",
    "    \n",
    "    return stacked\n",
    "    '''\n",
    "    preds_up = []\n",
    "    for scene in range(SIZE_N+SIZE_UR, SIZE_N+SIZE_UR+SIZE_R, SIZE):\n",
    "        to_concat = np.concatenate(preds[scene:scene+SIZE], axis = 1)\n",
    "        preds_up.append(to_concat)   \n",
    "    up = np.concatenate(preds_up, axis = 0)\n",
    "    up = np.pad(up, ((7,7), (0,0)), 'constant', constant_values = 0)\n",
    "    up = up * up_filter\n",
    "        \n",
    "    preds_right = []\n",
    "    for scene in range(SIZE_N+SIZE_UR+SIZE_R, TOTAL, SIZE - 1):\n",
    "        to_concat = np.concatenate(preds[scene:scene+SIZE-1], axis = 1)\n",
    "        preds_right.append(to_concat)   \n",
    "    right = np.concatenate(preds_right, axis = 0)\n",
    "    right = np.pad(right, ((0, 0), (7, 7)), 'constant', constant_values = 0)\n",
    "    right = right * right_filter\n",
    "    '''"
   ]
  },
  {
   "cell_type": "markdown",
   "metadata": {},
   "source": [
    "# Development Code"
   ]
  },
  {
   "cell_type": "markdown",
   "metadata": {},
   "source": [
    "# 2.4 Run predictions"
   ]
  },
  {
   "cell_type": "code",
   "execution_count": 440,
   "metadata": {},
   "outputs": [],
   "source": [
    "def tile_images(arr: np.ndarray) -> list:\n",
    "    \"\"\" Converts a 142x142 array to a 289, 24, 24 array\n",
    "        \n",
    "        Parameters:\n",
    "         arr (np.ndaray): (142, 142) float array\n",
    "    \n",
    "        Returns:\n",
    "         images (list): \n",
    "    \"\"\"\n",
    "\n",
    "    # Normal\n",
    "    images = []\n",
    "    for x_offset, cval in enumerate([x for x in range(0, 140, 14)]):\n",
    "        for y_offset, rval in enumerate([x for x in range(0, 140, 14)]):\n",
    "            min_x = np.max([cval - 0, 0])\n",
    "            max_x = np.min([cval + 24, 150])\n",
    "            min_y = np.max([rval - 0, 0])\n",
    "            max_y = np.min([rval + 24, 150])\n",
    "            subs = arr[:, min_x:max_x, min_y:max_y]\n",
    "            images.append(subs)\n",
    "            \n",
    "    # Upright  \n",
    "    for x_offset, cval in enumerate([x for x in range(7,  140-7, 14)]):\n",
    "        for y_offset, rval in enumerate([x for x in range(7, 140-7, 14)]):\n",
    "            base_id = 9*9\n",
    "            min_x = np.max([cval - 0, 0])\n",
    "            max_x = np.min([cval + 24, 150])\n",
    "            min_y = np.max([rval - 0, 0])\n",
    "            max_y = np.min([rval + 24, 150])\n",
    "            subs = arr[:, min_x:max_x, min_y:max_y]\n",
    "            images.append(subs)\n",
    "\n",
    "    return images"
   ]
  },
  {
   "cell_type": "code",
   "execution_count": 441,
   "metadata": {
    "scrolled": false
   },
   "outputs": [
    {
     "name": "stdout",
     "output_type": "stream",
     "text": [
      "../project-monitoring/tof/432/1198/output/462/238.npy\n",
      "(140, 140)\n",
      "../project-monitoring/tof/432/1198/output/462/358.npy\n",
      "(140, 140)\n",
      "../project-monitoring/tof/432/1198/output/462/119.npy\n",
      "(140, 140)\n",
      "../project-monitoring/tof/432/1198/output/462/478.npy\n",
      "(140, 140)\n",
      "../project-monitoring/tof/432/1198/output/462/0.npy\n",
      "(140, 140)\n",
      "../project-monitoring/tof/432/1198/output/346/238.npy\n",
      "(140, 140)\n",
      "../project-monitoring/tof/432/1198/output/346/358.npy\n",
      "(140, 140)\n",
      "../project-monitoring/tof/432/1198/output/346/119.npy\n",
      "(140, 140)\n",
      "../project-monitoring/tof/432/1198/output/346/478.npy\n",
      "(140, 140)\n",
      "../project-monitoring/tof/432/1198/output/346/0.npy\n",
      "(140, 140)\n",
      "../project-monitoring/tof/432/1198/output/0/238.npy\n",
      "(140, 140)\n",
      "../project-monitoring/tof/432/1198/output/0/358.npy\n",
      "(140, 140)\n",
      "../project-monitoring/tof/432/1198/output/0/119.npy\n",
      "(140, 140)\n",
      "../project-monitoring/tof/432/1198/output/0/478.npy\n",
      "(140, 140)\n",
      "../project-monitoring/tof/432/1198/output/0/0.npy\n",
      "(140, 140)\n",
      "../project-monitoring/tof/432/1198/output/230/238.npy\n",
      "(140, 140)\n",
      "../project-monitoring/tof/432/1198/output/230/358.npy\n",
      "(140, 140)\n",
      "../project-monitoring/tof/432/1198/output/230/119.npy\n",
      "(140, 140)\n",
      "../project-monitoring/tof/432/1198/output/230/478.npy\n",
      "(140, 140)\n",
      "../project-monitoring/tof/432/1198/output/230/0.npy\n",
      "(140, 140)\n",
      "../project-monitoring/tof/432/1198/output/115/238.npy\n",
      "(140, 140)\n",
      "../project-monitoring/tof/432/1198/output/115/358.npy\n",
      "(140, 140)\n",
      "../project-monitoring/tof/432/1198/output/115/119.npy\n",
      "(140, 140)\n",
      "../project-monitoring/tof/432/1198/output/115/478.npy\n",
      "(140, 140)\n",
      "../project-monitoring/tof/432/1198/output/115/0.npy\n",
      "(140, 140)\n",
      "Finished in 22.7 seconds\n"
     ]
    }
   ],
   "source": [
    "from time import time\n",
    "time1 = time()\n",
    "\n",
    "x_tiles = [int(x) for x in os.listdir(inp_folder) if '.DS' not in x]\n",
    "max_x = np.max(x_tiles) + 140\n",
    "\n",
    "for x_tile in x_tiles:\n",
    "    y_tiles = [int(y[:-4]) for y in os.listdir(inp_folder + str(x_tile) + \"/\") if '.DS' not in y]\n",
    "    max_y = np.max(y_tiles) + 140\n",
    "    for y_tile in y_tiles:\n",
    "        output_file = f\"{out_folder}{str(x_tile)}/{str(y_tile)}.npy\"\n",
    "        input_file = f\"{inp_folder}{str(x_tile)}/{str(y_tile)}.hkl\"\n",
    "        if os.path.exists(input_file) and not os.path.exists(output_file):\n",
    "            print(output_file)\n",
    "            prediction = load_and_predict_folder(input_file, histogram_match = False)\n",
    "            print(prediction.shape)\n",
    "            if not os.path.exists(f\"{out_folder}{str(x_tile)}/\"):\n",
    "                os.makedirs(f\"{out_folder}{str(x_tile)}/\")\n",
    "            prediction = prediction\n",
    "            np.save(output_file, prediction)\n",
    "            \n",
    "time2 = time()\n",
    "print(f\"Finished in {np.around(time2 - time1, 1)} seconds\")"
   ]
  },
  {
   "cell_type": "markdown",
   "metadata": {},
   "source": [
    "\n",
    "# 2.5 Mosaic predictions"
   ]
  },
  {
   "cell_type": "code",
   "execution_count": 442,
   "metadata": {},
   "outputs": [],
   "source": [
    "if not (max_x or max_y):\n",
    "    x_tiles = [int(x) for x in os.listdir(out_folder) if '.DS' not in x]\n",
    "    max_x = np.max(x_tiles) + 140\n",
    "\n",
    "    for x_tile in x_tiles:\n",
    "        y_tiles = [int(y[:-4]) for y in os.listdir(out_folder + str(x_tile) + \"/\") if '.DS' not in y]\n",
    "        max_y = np.max(y_tiles) + 140\n",
    "\n",
    "predictions = np.full(\n",
    "    (max_x,\n",
    "     max_y), 0, dtype = np.uint8 )\n",
    "\n",
    "x_tiles = [int(x) for x in os.listdir(out_folder) if '.DS' not in x]\n",
    "\n",
    "for x_tile in x_tiles:\n",
    "    y_tiles = [int(y[:-4]) for y in os.listdir(out_folder + str(x_tile) + \"/\") if '.DS' not in y]\n",
    "    for y_tile in y_tiles:\n",
    "        output_file = out_folder + str(x_tile) + \"/\" + str(y_tile) + \".npy\"\n",
    "        if os.path.exists(output_file):\n",
    "            prediction = np.load(output_file)\n",
    "            prediction = prediction * 100\n",
    "            predictions[(x_tile ): (x_tile+140),\n",
    "                       y_tile:y_tile + 140] = prediction.T.astype(np.uint8)"
   ]
  },
  {
   "cell_type": "code",
   "execution_count": 443,
   "metadata": {},
   "outputs": [],
   "source": [
    "for x_i in range(0, predictions.shape[0] - 3):\n",
    "    for y_i in range(0, predictions.shape[1] - 3):\n",
    "        window = predictions[x_i:x_i+3, y_i:y_i+3]\n",
    "        if np.max(window) < 50:\n",
    "            if np.sum(np.logical_and(window > 20, window < 60)) > 4:\n",
    "                 predictions[x_i:x_i+3, y_i:y_i+3] = 0.\n",
    "            #if np.sum(np.logical_and(window > 10, window < 30)) > 4:\n",
    "            #     predictions[x_i:x_i+3, y_i:y_i+3] = 0.\n",
    "\n",
    "                    \n",
    "predictions = np.around(predictions / 10, 0) * 10\n",
    "predictions[predictions < .25*100] = 0.\n",
    "        "
   ]
  },
  {
   "cell_type": "code",
   "execution_count": 444,
   "metadata": {},
   "outputs": [],
   "source": [
    "predictions = np.around(predictions / 10, 0) * 10\n",
    "#predictions[predictions < .25*100] = 0."
   ]
  },
  {
   "cell_type": "markdown",
   "metadata": {},
   "source": [
    "#### 2.6 Sharpen predictions"
   ]
  },
  {
   "cell_type": "code",
   "execution_count": 445,
   "metadata": {},
   "outputs": [],
   "source": [
    "def recover_new(arr, thresh):\n",
    "    \"\"\"Not currently used. Identifies small trees that may be below the\n",
    "       threshold for binary map creation.\n",
    "    \"\"\"\n",
    "    adding = 0\n",
    "    stacked = np.copy(arr)\n",
    "    for window_x in tnrange(2, stacked.shape[0]-2, 1):\n",
    "        for window_y in range(2, stacked.shape[1]-2, 1):\n",
    "            #\n",
    "            five_w = stacked[window_x-2:window_x+3, window_y-2:window_y+3]\n",
    "            three_w = stacked[window_x-1:window_x+2, window_y-1:window_y+2]\n",
    "            \n",
    "            n_five_above = len(five_w[np.argwhere(five_w > 0.15)])\n",
    "            n_three_above = len(three_w[np.argwhere(three_w > 0.15)])\n",
    "            \n",
    "            n_five_below = len(five_w[np.argwhere(five_w < thresh)])\n",
    "            \n",
    "            \n",
    "            if n_five_below >= 24:                 \n",
    "                # if less than 2 of the 5x5 are positive\n",
    "                if n_three_above >= 2 and n_three_above < 6:            \n",
    "                    # and at least 2 of the 3x3 are above 0.1\n",
    "                    if n_three_above <= (n_five_above + 4):  \n",
    "                        # and less than 1/4 of the outer border is above 0.1\n",
    "                        if np.argmax(three_w) == 4:          \n",
    "                            # and the center of the 3 x 3 is the largest\n",
    "                            stacked[window_x, window_y] = -1.\n",
    "                            adding += 1\n",
    "    stacked[np.where(stacked == -1)] = 1.\n",
    "    return stacked"
   ]
  },
  {
   "cell_type": "code",
   "execution_count": 446,
   "metadata": {
    "scrolled": false
   },
   "outputs": [
    {
     "data": {
      "image/png": "[encoded data removed]",
      "text/plain": [
       "<Figure size 1440x1224 with 1 Axes>"
      ]
     },
     "metadata": {
      "needs_background": "light"
     },
     "output_type": "display_data"
    }
   ],
   "source": [
    "stacked = predictions\n",
    "stacked[stacked == 160] = 255.\n",
    "\n",
    "plot = True\n",
    "if plot:\n",
    "    plt.figure(figsize=(20,17))\n",
    "    plt.imshow(stacked.T, cmap='Greens', vmin=0, vmax=100)\n",
    "    plt.show()"
   ]
  },
  {
   "cell_type": "markdown",
   "metadata": {},
   "source": [
    "# 3.0 Write GeoTiff"
   ]
  },
  {
   "cell_type": "code",
   "execution_count": 447,
   "metadata": {},
   "outputs": [
    {
     "name": "stdout",
     "output_type": "stream",
     "text": [
      "Writing ../project-monitoring/tof/432/1198/432X1198Y_POST.tif\n"
     ]
    }
   ],
   "source": [
    "file = out_folder[:-7] + f\"{str(x)}X{str(y)}Y_POST.tif\"\n",
    "\n",
    "west = point[0]\n",
    "east = point[2]\n",
    "north = point[3]\n",
    "south = point[1]\n",
    "\n",
    "arr = stacked.T.astype(np.uint8)\n",
    "\n",
    "transform = rasterio.transform.from_bounds(west = west, south = south,\n",
    "                                           east = east, north = north,\n",
    "                                           width = arr.shape[1], \n",
    "                                           height = arr.shape[0])\n",
    "\n",
    "print(\"Writing\", file)\n",
    "new_dataset = rasterio.open(file, 'w', driver = 'GTiff',\n",
    "                           height = arr.shape[0], width = arr.shape[1], count = 1,\n",
    "                           dtype = \"uint8\",\n",
    "                           crs = '+proj=longlat +datum=WGS84 +no_defs',\n",
    "                           transform=transform)\n",
    "new_dataset.write(arr, 1)\n",
    "new_dataset.close()"
   ]
  },
  {
   "cell_type": "code",
   "execution_count": 249,
   "metadata": {},
   "outputs": [
    {
     "name": "stdout",
     "output_type": "stream",
     "text": [
      "ERROR 4: ../../ce-hosting/includes/niger-koure.tif: No such file or directory\n",
      "0...10...20...30...40...50...60...70...80...90...100 - done.\n"
     ]
    }
   ],
   "source": [
    "!gdal_translate ../../ce-hosting/includes/niger-koure.tif ../tile_data/cog/niger-koure.tif \\\n",
    "               -co TILED=YES -co COMPRESS=LZW\n",
    "!gdaladdo -r average -ro ../tile_data/cog/niger-koure.tif 2 4 8 16"
   ]
  },
  {
   "cell_type": "code",
   "execution_count": 212,
   "metadata": {},
   "outputs": [
    {
     "ename": "KeyboardInterrupt",
     "evalue": "",
     "output_type": "error",
     "traceback": [
      "\u001b[0;31m---------------------------------------------------------------------------\u001b[0m",
      "\u001b[0;31mKeyboardInterrupt\u001b[0m                         Traceback (most recent call last)",
      "\u001b[0;32m<ipython-input-212-2e937f03a6b3>\u001b[0m in \u001b[0;36m<module>\u001b[0;34m\u001b[0m\n\u001b[1;32m      1\u001b[0m \u001b[0;32mimport\u001b[0m \u001b[0mos\u001b[0m\u001b[0;34m\u001b[0m\u001b[0;34m\u001b[0m\u001b[0m\n\u001b[0;32m----> 2\u001b[0;31m \u001b[0;32mfrom\u001b[0m \u001b[0mosgeo\u001b[0m \u001b[0;32mimport\u001b[0m \u001b[0mgdal\u001b[0m\u001b[0;34m\u001b[0m\u001b[0;34m\u001b[0m\u001b[0m\n\u001b[0m\u001b[1;32m      3\u001b[0m \u001b[0;32mfrom\u001b[0m \u001b[0mglob\u001b[0m \u001b[0;32mimport\u001b[0m \u001b[0mglob\u001b[0m\u001b[0;34m\u001b[0m\u001b[0;34m\u001b[0m\u001b[0m\n\u001b[1;32m      4\u001b[0m \u001b[0mli_dirs\u001b[0m \u001b[0;34m=\u001b[0m \u001b[0;34m\"colombia/\"\u001b[0m\u001b[0;34m\u001b[0m\u001b[0;34m\u001b[0m\u001b[0m\n\u001b[1;32m      5\u001b[0m \u001b[0;34m\u001b[0m\u001b[0m\n",
      "\u001b[0;32m~/anaconda3/envs/remote_sensing/lib/python3.6/site-packages/osgeo/gdal.py\u001b[0m in \u001b[0;36m<module>\u001b[0;34m\u001b[0m\n\u001b[1;32m    108\u001b[0m \u001b[0;34m\u001b[0m\u001b[0m\n\u001b[1;32m    109\u001b[0m \u001b[0;34m\u001b[0m\u001b[0m\n\u001b[0;32m--> 110\u001b[0;31m \u001b[0;32mfrom\u001b[0m \u001b[0;34m.\u001b[0m\u001b[0mgdalconst\u001b[0m \u001b[0;32mimport\u001b[0m \u001b[0;34m*\u001b[0m\u001b[0;34m\u001b[0m\u001b[0;34m\u001b[0m\u001b[0m\n\u001b[0m\u001b[1;32m    111\u001b[0m \u001b[0;32mfrom\u001b[0m \u001b[0;34m.\u001b[0m \u001b[0;32mimport\u001b[0m \u001b[0mgdalconst\u001b[0m\u001b[0;34m\u001b[0m\u001b[0;34m\u001b[0m\u001b[0m\n\u001b[1;32m    112\u001b[0m \u001b[0;34m\u001b[0m\u001b[0m\n",
      "\u001b[0;32m~/anaconda3/envs/remote_sensing/lib/python3.6/site-packages/osgeo/gdalconst.py\u001b[0m in \u001b[0;36m<module>\u001b[0;34m\u001b[0m\n\u001b[1;32m     26\u001b[0m                 \u001b[0mfp\u001b[0m\u001b[0;34m.\u001b[0m\u001b[0mclose\u001b[0m\u001b[0;34m(\u001b[0m\u001b[0;34m)\u001b[0m\u001b[0;34m\u001b[0m\u001b[0;34m\u001b[0m\u001b[0m\n\u001b[1;32m     27\u001b[0m             \u001b[0;32mreturn\u001b[0m \u001b[0m_mod\u001b[0m\u001b[0;34m\u001b[0m\u001b[0;34m\u001b[0m\u001b[0m\n\u001b[0;32m---> 28\u001b[0;31m     \u001b[0m_gdalconst\u001b[0m \u001b[0;34m=\u001b[0m \u001b[0mswig_import_helper\u001b[0m\u001b[0;34m(\u001b[0m\u001b[0;34m)\u001b[0m\u001b[0;34m\u001b[0m\u001b[0;34m\u001b[0m\u001b[0m\n\u001b[0m\u001b[1;32m     29\u001b[0m     \u001b[0;32mdel\u001b[0m \u001b[0mswig_import_helper\u001b[0m\u001b[0;34m\u001b[0m\u001b[0;34m\u001b[0m\u001b[0m\n\u001b[1;32m     30\u001b[0m \u001b[0;32melse\u001b[0m\u001b[0;34m:\u001b[0m\u001b[0;34m\u001b[0m\u001b[0;34m\u001b[0m\u001b[0m\n",
      "\u001b[0;32m~/anaconda3/envs/remote_sensing/lib/python3.6/site-packages/osgeo/gdalconst.py\u001b[0m in \u001b[0;36mswig_import_helper\u001b[0;34m()\u001b[0m\n\u001b[1;32m     22\u001b[0m         \u001b[0;32mif\u001b[0m \u001b[0mfp\u001b[0m \u001b[0;32mis\u001b[0m \u001b[0;32mnot\u001b[0m \u001b[0;32mNone\u001b[0m\u001b[0;34m:\u001b[0m\u001b[0;34m\u001b[0m\u001b[0;34m\u001b[0m\u001b[0m\n\u001b[1;32m     23\u001b[0m             \u001b[0;32mtry\u001b[0m\u001b[0;34m:\u001b[0m\u001b[0;34m\u001b[0m\u001b[0;34m\u001b[0m\u001b[0m\n\u001b[0;32m---> 24\u001b[0;31m                 \u001b[0m_mod\u001b[0m \u001b[0;34m=\u001b[0m \u001b[0mimp\u001b[0m\u001b[0;34m.\u001b[0m\u001b[0mload_module\u001b[0m\u001b[0;34m(\u001b[0m\u001b[0;34m'_gdalconst'\u001b[0m\u001b[0;34m,\u001b[0m \u001b[0mfp\u001b[0m\u001b[0;34m,\u001b[0m \u001b[0mpathname\u001b[0m\u001b[0;34m,\u001b[0m \u001b[0mdescription\u001b[0m\u001b[0;34m)\u001b[0m\u001b[0;34m\u001b[0m\u001b[0;34m\u001b[0m\u001b[0m\n\u001b[0m\u001b[1;32m     25\u001b[0m             \u001b[0;32mfinally\u001b[0m\u001b[0;34m:\u001b[0m\u001b[0;34m\u001b[0m\u001b[0;34m\u001b[0m\u001b[0m\n\u001b[1;32m     26\u001b[0m                 \u001b[0mfp\u001b[0m\u001b[0;34m.\u001b[0m\u001b[0mclose\u001b[0m\u001b[0;34m(\u001b[0m\u001b[0;34m)\u001b[0m\u001b[0;34m\u001b[0m\u001b[0;34m\u001b[0m\u001b[0m\n",
      "\u001b[0;32m~/anaconda3/envs/remote_sensing/lib/python3.6/imp.py\u001b[0m in \u001b[0;36mload_module\u001b[0;34m(name, file, filename, details)\u001b[0m\n\u001b[1;32m    241\u001b[0m                 \u001b[0;32mreturn\u001b[0m \u001b[0mload_dynamic\u001b[0m\u001b[0;34m(\u001b[0m\u001b[0mname\u001b[0m\u001b[0;34m,\u001b[0m \u001b[0mfilename\u001b[0m\u001b[0;34m,\u001b[0m \u001b[0mopened_file\u001b[0m\u001b[0;34m)\u001b[0m\u001b[0;34m\u001b[0m\u001b[0;34m\u001b[0m\u001b[0m\n\u001b[1;32m    242\u001b[0m         \u001b[0;32melse\u001b[0m\u001b[0;34m:\u001b[0m\u001b[0;34m\u001b[0m\u001b[0;34m\u001b[0m\u001b[0m\n\u001b[0;32m--> 243\u001b[0;31m             \u001b[0;32mreturn\u001b[0m \u001b[0mload_dynamic\u001b[0m\u001b[0;34m(\u001b[0m\u001b[0mname\u001b[0m\u001b[0;34m,\u001b[0m \u001b[0mfilename\u001b[0m\u001b[0;34m,\u001b[0m \u001b[0mfile\u001b[0m\u001b[0;34m)\u001b[0m\u001b[0;34m\u001b[0m\u001b[0;34m\u001b[0m\u001b[0m\n\u001b[0m\u001b[1;32m    244\u001b[0m     \u001b[0;32melif\u001b[0m \u001b[0mtype_\u001b[0m \u001b[0;34m==\u001b[0m \u001b[0mPKG_DIRECTORY\u001b[0m\u001b[0;34m:\u001b[0m\u001b[0;34m\u001b[0m\u001b[0;34m\u001b[0m\u001b[0m\n\u001b[1;32m    245\u001b[0m         \u001b[0;32mreturn\u001b[0m \u001b[0mload_package\u001b[0m\u001b[0;34m(\u001b[0m\u001b[0mname\u001b[0m\u001b[0;34m,\u001b[0m \u001b[0mfilename\u001b[0m\u001b[0;34m)\u001b[0m\u001b[0;34m\u001b[0m\u001b[0;34m\u001b[0m\u001b[0m\n",
      "\u001b[0;32m~/anaconda3/envs/remote_sensing/lib/python3.6/imp.py\u001b[0m in \u001b[0;36mload_dynamic\u001b[0;34m(name, path, file)\u001b[0m\n\u001b[1;32m    341\u001b[0m         spec = importlib.machinery.ModuleSpec(\n\u001b[1;32m    342\u001b[0m             name=name, loader=loader, origin=path)\n\u001b[0;32m--> 343\u001b[0;31m         \u001b[0;32mreturn\u001b[0m \u001b[0m_load\u001b[0m\u001b[0;34m(\u001b[0m\u001b[0mspec\u001b[0m\u001b[0;34m)\u001b[0m\u001b[0;34m\u001b[0m\u001b[0;34m\u001b[0m\u001b[0m\n\u001b[0m\u001b[1;32m    344\u001b[0m \u001b[0;34m\u001b[0m\u001b[0m\n\u001b[1;32m    345\u001b[0m \u001b[0;32melse\u001b[0m\u001b[0;34m:\u001b[0m\u001b[0;34m\u001b[0m\u001b[0;34m\u001b[0m\u001b[0m\n",
      "\u001b[0;31mKeyboardInterrupt\u001b[0m: "
     ]
    }
   ],
   "source": [
    "import os\n",
    "from osgeo import gdal\n",
    "from glob import glob\n",
    "li_dirs = \"colombia/\"\n",
    "\n",
    "\n",
    "print(li_dirs)\n",
    "li_all_files = list()\n",
    "\n",
    "files = [file for file in os.listdir('colombia/')  if os.path.splitext(file)[-1] == '.tif']\n",
    "print(files)\n",
    "for file in files:\n",
    "    li_all_files.append(os.path.join(\"colombia/\", file))\n",
    "\n",
    "gdal.BuildVRT('colombia.vrt', li_all_files)\n",
    "\n",
    "!gdal_translate -of GTiff colombia.vrt colombia.tif -ot Byte -co compress=LZW "
   ]
  },
  {
   "cell_type": "markdown",
   "metadata": {},
   "source": [
    "# 3.2 One-hectare tree cover Geotiff"
   ]
  },
  {
   "cell_type": "code",
   "execution_count": null,
   "metadata": {},
   "outputs": [],
   "source": [
    "summed = np.reshape(stacked, (stacked.shape[0] // 10, 10, stacked.shape[1] // 10, 10))\n",
    "summed = np.mean(summed, (1, 3))\n",
    "\n",
    "summed = summed.astype(np.float32)\n",
    "transform = rasterio.transform.from_bounds(west = west, south = south,\n",
    "                                           east = east, north = north,\n",
    "                                           width = summed.shape[1], height = summed.shape[1])\n",
    "\n",
    "new_dataset = rasterio.open('../../ce-hosting/includes/bonanza1.tif', 'w', driver = 'GTiff',\n",
    "                           height = summed.shape[1], width = summed.shape[1], count = 1,\n",
    "                           dtype = 'float32',#str(stacked.dtype),\n",
    "                           crs = '+proj=longlat +ellps=WGS84 +datum=WGS84 +no_defs',\n",
    "                           transform=transform)\n",
    "new_dataset.write(summed, 1)\n",
    "new_dataset.close()"
   ]
  }
 ],
 "metadata": {
  "kernelspec": {
   "display_name": "remote_sensing",
   "language": "python",
   "name": "remote_sensing"
  },
  "language_info": {
   "codemirror_mode": {
    "name": "ipython",
    "version": 3
   },
   "file_extension": ".py",
   "mimetype": "text/x-python",
   "name": "python",
   "nbconvert_exporter": "python",
   "pygments_lexer": "ipython3",
   "version": "3.6.8"
  }
 },
 "nbformat": 4,
 "nbformat_minor": 2
}
